{
 "cells": [
  {
   "cell_type": "code",
   "execution_count": 1,
   "id": "dd341c3e",
   "metadata": {},
   "outputs": [],
   "source": [
    "# project: p6\n",
    "# submitter: yzhang2232\n",
    "# partner: none\n",
    "# hours: 6"
   ]
  },
  {
   "cell_type": "code",
   "execution_count": 2,
   "id": "26809297",
   "metadata": {},
   "outputs": [],
   "source": [
    "import pandas as pd\n",
    "import geopandas as gpd\n",
    "import sqlite3\n",
    "from sklearn.linear_model import LinearRegression\n",
    "from sklearn.model_selection import train_test_split, cross_val_score\n",
    "from sklearn.pipeline import Pipeline\n",
    "from sklearn.preprocessing import PolynomialFeatures\n",
    "import matplotlib.pyplot as plt\n",
    "from matplotlib.colors import ListedColormap\n",
    "import numpy as np\n",
    "import rasterio\n",
    "from rasterio.mask import mask"
   ]
  },
  {
   "cell_type": "code",
   "execution_count": 3,
   "id": "ea5491d2",
   "metadata": {},
   "outputs": [
    {
     "data": {
      "text/html": [
       "<div>\n",
       "<style scoped>\n",
       "    .dataframe tbody tr th:only-of-type {\n",
       "        vertical-align: middle;\n",
       "    }\n",
       "\n",
       "    .dataframe tbody tr th {\n",
       "        vertical-align: top;\n",
       "    }\n",
       "\n",
       "    .dataframe thead th {\n",
       "        text-align: right;\n",
       "    }\n",
       "</style>\n",
       "<table border=\"1\" class=\"dataframe\">\n",
       "  <thead>\n",
       "    <tr style=\"text-align: right;\">\n",
       "      <th></th>\n",
       "      <th>NAME</th>\n",
       "      <th>POP100</th>\n",
       "      <th>geometry</th>\n",
       "    </tr>\n",
       "  </thead>\n",
       "  <tbody>\n",
       "    <tr>\n",
       "      <th>0</th>\n",
       "      <td>Racine County</td>\n",
       "      <td>195408</td>\n",
       "      <td>POLYGON ((-88.07073 42.66976, -88.06897 42.669...</td>\n",
       "    </tr>\n",
       "    <tr>\n",
       "      <th>1</th>\n",
       "      <td>Clark County</td>\n",
       "      <td>34690</td>\n",
       "      <td>POLYGON ((-90.55875 44.42221, -90.53398 44.422...</td>\n",
       "    </tr>\n",
       "    <tr>\n",
       "      <th>2</th>\n",
       "      <td>Wood County</td>\n",
       "      <td>74749</td>\n",
       "      <td>POLYGON ((-89.72464 44.33712, -89.72460 44.338...</td>\n",
       "    </tr>\n",
       "    <tr>\n",
       "      <th>3</th>\n",
       "      <td>Rusk County</td>\n",
       "      <td>14755</td>\n",
       "      <td>POLYGON ((-90.92517 45.37935, -90.92515 45.379...</td>\n",
       "    </tr>\n",
       "    <tr>\n",
       "      <th>4</th>\n",
       "      <td>Ozaukee County</td>\n",
       "      <td>86395</td>\n",
       "      <td>POLYGON ((-87.89269 43.19202, -87.89265 43.192...</td>\n",
       "    </tr>\n",
       "    <tr>\n",
       "      <th>...</th>\n",
       "      <td>...</td>\n",
       "      <td>...</td>\n",
       "      <td>...</td>\n",
       "    </tr>\n",
       "    <tr>\n",
       "      <th>67</th>\n",
       "      <td>Washburn County</td>\n",
       "      <td>15911</td>\n",
       "      <td>POLYGON ((-91.55065 46.07034, -91.55065 46.070...</td>\n",
       "    </tr>\n",
       "    <tr>\n",
       "      <th>68</th>\n",
       "      <td>Monroe County</td>\n",
       "      <td>44673</td>\n",
       "      <td>POLYGON ((-90.55246 43.72565, -90.55096 43.725...</td>\n",
       "    </tr>\n",
       "    <tr>\n",
       "      <th>69</th>\n",
       "      <td>Richland County</td>\n",
       "      <td>18021</td>\n",
       "      <td>POLYGON ((-90.31107 43.55399, -90.31108 43.553...</td>\n",
       "    </tr>\n",
       "    <tr>\n",
       "      <th>70</th>\n",
       "      <td>Price County</td>\n",
       "      <td>14159</td>\n",
       "      <td>POLYGON ((-90.04485 45.81765, -90.04440 45.830...</td>\n",
       "    </tr>\n",
       "    <tr>\n",
       "      <th>71</th>\n",
       "      <td>St. Croix County</td>\n",
       "      <td>84345</td>\n",
       "      <td>POLYGON ((-92.51872 45.20963, -92.52951 45.209...</td>\n",
       "    </tr>\n",
       "  </tbody>\n",
       "</table>\n",
       "<p>72 rows × 3 columns</p>\n",
       "</div>"
      ],
      "text/plain": [
       "                NAME  POP100  \\\n",
       "0      Racine County  195408   \n",
       "1       Clark County   34690   \n",
       "2        Wood County   74749   \n",
       "3        Rusk County   14755   \n",
       "4     Ozaukee County   86395   \n",
       "..               ...     ...   \n",
       "67   Washburn County   15911   \n",
       "68     Monroe County   44673   \n",
       "69   Richland County   18021   \n",
       "70      Price County   14159   \n",
       "71  St. Croix County   84345   \n",
       "\n",
       "                                             geometry  \n",
       "0   POLYGON ((-88.07073 42.66976, -88.06897 42.669...  \n",
       "1   POLYGON ((-90.55875 44.42221, -90.53398 44.422...  \n",
       "2   POLYGON ((-89.72464 44.33712, -89.72460 44.338...  \n",
       "3   POLYGON ((-90.92517 45.37935, -90.92515 45.379...  \n",
       "4   POLYGON ((-87.89269 43.19202, -87.89265 43.192...  \n",
       "..                                                ...  \n",
       "67  POLYGON ((-91.55065 46.07034, -91.55065 46.070...  \n",
       "68  POLYGON ((-90.55246 43.72565, -90.55096 43.725...  \n",
       "69  POLYGON ((-90.31107 43.55399, -90.31108 43.553...  \n",
       "70  POLYGON ((-90.04485 45.81765, -90.04440 45.830...  \n",
       "71  POLYGON ((-92.51872 45.20963, -92.52951 45.209...  \n",
       "\n",
       "[72 rows x 3 columns]"
      ]
     },
     "execution_count": 3,
     "metadata": {},
     "output_type": "execute_result"
    }
   ],
   "source": [
    "main = gpd.read_file('counties.geojson')\n",
    "main"
   ]
  },
  {
   "cell_type": "code",
   "execution_count": 4,
   "id": "7b600101",
   "metadata": {},
   "outputs": [
    {
     "data": {
      "text/plain": [
       "72"
      ]
     },
     "execution_count": 4,
     "metadata": {},
     "output_type": "execute_result"
    }
   ],
   "source": [
    "#q1\n",
    "len(main)"
   ]
  },
  {
   "cell_type": "code",
   "execution_count": 5,
   "id": "95f7cf9b",
   "metadata": {},
   "outputs": [
    {
     "data": {
      "text/plain": [
       "<AxesSubplot:>"
      ]
     },
     "execution_count": 5,
     "metadata": {},
     "output_type": "execute_result"
    },
    {
     "data": {
      "image/png": "[encoded data removed]",
      "text/plain": [
       "<Figure size 432x288 with 2 Axes>"
      ]
     },
     "metadata": {
      "needs_background": "light"
     },
     "output_type": "display_data"
    }
   ],
   "source": [
    "#q2\n",
    "main.plot(column = 'POP100', legend = True)"
   ]
  },
  {
   "cell_type": "code",
   "execution_count": 6,
   "id": "fa031bf5",
   "metadata": {},
   "outputs": [],
   "source": [
    "conn = sqlite3.connect(\"counties_tracts.db\")\n",
    "counties = pd.read_sql(\"\"\"SELECT * FROM counties\"\"\", conn)\n",
    "main['AREALAND'] = counties['AREALAND']\n",
    "train, test = train_test_split(main, random_state=320, test_size=0.25)"
   ]
  },
  {
   "cell_type": "code",
   "execution_count": 7,
   "id": "6a6ba815",
   "metadata": {},
   "outputs": [
    {
     "data": {
      "text/plain": [
       "['Kewaunee County',\n",
       " 'Calumet County',\n",
       " 'Adams County',\n",
       " 'Eau Claire County',\n",
       " 'Milwaukee County',\n",
       " 'Ashland County',\n",
       " 'Wood County',\n",
       " 'Dodge County',\n",
       " 'Sauk County',\n",
       " 'Clark County',\n",
       " 'Pepin County',\n",
       " 'Taylor County',\n",
       " 'Iron County',\n",
       " 'Outagamie County',\n",
       " 'Florence County',\n",
       " 'Oneida County',\n",
       " 'Pierce County',\n",
       " 'Grant County']"
      ]
     },
     "execution_count": 7,
     "metadata": {},
     "output_type": "execute_result"
    }
   ],
   "source": [
    "#q3\n",
    "list(test[\"NAME\"])"
   ]
  },
  {
   "cell_type": "code",
   "execution_count": 8,
   "id": "76a7f467",
   "metadata": {},
   "outputs": [
    {
     "data": {
      "text/plain": [
       "0.022002661530554857"
      ]
     },
     "execution_count": 8,
     "metadata": {},
     "output_type": "execute_result"
    }
   ],
   "source": [
    "#q4\n",
    "model = LinearRegression()\n",
    "model.fit(train[['AREALAND']], train['POP100'])\n",
    "model.score(test[['AREALAND']], test['POP100'])"
   ]
  },
  {
   "cell_type": "code",
   "execution_count": 9,
   "id": "aec95eaf",
   "metadata": {},
   "outputs": [
    {
     "data": {
      "text/plain": [
       "82032.53073541154"
      ]
     },
     "execution_count": 9,
     "metadata": {},
     "output_type": "execute_result"
    }
   ],
   "source": [
    "#q5\n",
    "predict_df = pd.DataFrame({'AREALAND':[500*2.59*1000000]})\n",
    "model.predict(predict_df)[0]"
   ]
  },
  {
   "cell_type": "code",
   "execution_count": 10,
   "id": "309e0662",
   "metadata": {},
   "outputs": [
    {
     "data": {
      "text/plain": [
       "['Kewaunee County',\n",
       " 'Calumet County',\n",
       " 'Adams County',\n",
       " 'Eau Claire County',\n",
       " 'Milwaukee County',\n",
       " 'Ashland County',\n",
       " 'Wood County',\n",
       " 'Dodge County',\n",
       " 'Sauk County',\n",
       " 'Clark County',\n",
       " 'Pepin County',\n",
       " 'Taylor County',\n",
       " 'Iron County',\n",
       " 'Outagamie County',\n",
       " 'Florence County',\n",
       " 'Oneida County',\n",
       " 'Pierce County',\n",
       " 'Grant County']"
      ]
     },
     "execution_count": 10,
     "metadata": {},
     "output_type": "execute_result"
    }
   ],
   "source": [
    "#q6\n",
    "tracts = pd.read_sql(\"\"\"\n",
    "SELECT counties.NAME, tracts.COUNTY, SUM(HU100) AS HU100\n",
    "FROM tracts INNER JOIN counties\n",
    "ON tracts.COUNTY = counties.COUNTY\n",
    "GROUP BY tracts.COUNTY\"\"\", conn)\n",
    "main = pd.merge(left=main, right=tracts, how=\"inner\", on=\"NAME\")\n",
    "train, test = train_test_split(main, random_state=320, test_size=0.25)\n",
    "list(test['NAME'])"
   ]
  },
  {
   "cell_type": "code",
   "execution_count": 11,
   "id": "3a6e6a5b",
   "metadata": {},
   "outputs": [
    {
     "data": {
      "text/plain": [
       "{'Walworth County': 51531,\n",
       " 'Marquette County': 9896,\n",
       " 'Racine County': 82164,\n",
       " 'Waupaca County': 25396,\n",
       " 'Lincoln County': 16784,\n",
       " 'Washburn County': 12979,\n",
       " 'Door County': 23966,\n",
       " 'Waukesha County': 160864,\n",
       " 'Sheboygan County': 50766,\n",
       " 'La Crosse County': 48402,\n",
       " 'Langlade County': 12360,\n",
       " 'Marathon County': 57734,\n",
       " 'Jefferson County': 35147,\n",
       " 'Price County': 11120,\n",
       " 'Vilas County': 25116,\n",
       " 'Columbia County': 26137,\n",
       " 'Ozaukee County': 36267,\n",
       " 'Fond du Lac County': 43910,\n",
       " 'Crawford County': 8802,\n",
       " 'Lafayette County': 7230,\n",
       " 'Green County': 15856,\n",
       " 'Marinette County': 30379,\n",
       " 'Vernon County': 13720,\n",
       " 'Douglas County': 22825,\n",
       " 'Rock County': 68422,\n",
       " 'Iowa County': 10719,\n",
       " 'Dane County': 216022,\n",
       " 'Bayfield County': 12999,\n",
       " 'Polk County': 24248,\n",
       " 'Trempealeau County': 12619,\n",
       " 'Brown County': 104371,\n",
       " 'Washington County': 54695,\n",
       " 'Chippewa County': 27185,\n",
       " 'Oconto County': 23537,\n",
       " 'Richland County': 8868,\n",
       " 'Portage County': 30054,\n",
       " 'Sawyer County': 15975,\n",
       " 'Menominee County': 2253,\n",
       " 'Barron County': 23614,\n",
       " 'Shawano County': 20720,\n",
       " 'Winnebago County': 73329,\n",
       " 'Rusk County': 8883,\n",
       " 'Manitowoc County': 37189,\n",
       " 'Dunn County': 17964,\n",
       " 'Monroe County': 19204,\n",
       " 'Waushara County': 14843,\n",
       " 'Forest County': 8970,\n",
       " 'Green Lake County': 10616,\n",
       " 'Juneau County': 14669,\n",
       " 'St. Croix County': 33983,\n",
       " 'Buffalo County': 6664,\n",
       " 'Kenosha County': 69288,\n",
       " 'Jackson County': 9727,\n",
       " 'Burnett County': 15278}"
      ]
     },
     "execution_count": 11,
     "metadata": {},
     "output_type": "execute_result"
    }
   ],
   "source": [
    "#q7\n",
    "dict(zip(train.NAME, train.HU100))"
   ]
  },
  {
   "cell_type": "code",
   "execution_count": 12,
   "id": "919f97cf",
   "metadata": {},
   "outputs": [
    {
     "data": {
      "text/plain": [
       "0.9652534544116037"
      ]
     },
     "execution_count": 12,
     "metadata": {},
     "output_type": "execute_result"
    }
   ],
   "source": [
    "#q8\n",
    "model = LinearRegression()\n",
    "sum(cross_val_score(model, train[['HU100']], train['POP100']))/5"
   ]
  },
  {
   "cell_type": "code",
   "execution_count": 13,
   "id": "3fc37466",
   "metadata": {},
   "outputs": [
    {
     "data": {
      "text/plain": [
       "0.03704265206670459"
      ]
     },
     "execution_count": 13,
     "metadata": {},
     "output_type": "execute_result"
    }
   ],
   "source": [
    "#q9\n",
    "cross_val_score(model, train[['HU100']], train['POP100']).std()"
   ]
  },
  {
   "cell_type": "code",
   "execution_count": 14,
   "id": "94c7e43c",
   "metadata": {},
   "outputs": [
    {
     "data": {
      "text/plain": [
       "'POP100 = 2.39*HU100 + -7910.46'"
      ]
     },
     "execution_count": 14,
     "metadata": {},
     "output_type": "execute_result"
    }
   ],
   "source": [
    "#q10\n",
    "model = LinearRegression()\n",
    "model.fit(train[['HU100']], train['POP100'])\n",
    "'POP100 = {0:.2f}*HU100 + {1:.2f}'.format(model.coef_[0], model.intercept_)"
   ]
  },
  {
   "cell_type": "code",
   "execution_count": 15,
   "id": "5f0427f7",
   "metadata": {},
   "outputs": [
    {
     "data": {
      "text/plain": [
       "Text(226022, 478073, 'Dane')"
      ]
     },
     "execution_count": 15,
     "metadata": {},
     "output_type": "execute_result"
    },
    {
     "data": {
      "image/png": "[encoded data removed]",
      "text/plain": [
       "<Figure size 432x288 with 1 Axes>"
      ]
     },
     "metadata": {
      "needs_background": "light"
     },
     "output_type": "display_data"
    }
   ],
   "source": [
    "#q11\n",
    "main['PREDI_POP100'] = model.predict(main[['HU100']])\n",
    "ax = main.plot.scatter(x=\"HU100\",y=\"POP100\", label='Actual')\n",
    "main.plot.line(x=\"HU100\",y=\"PREDI_POP100\", color=\"red\", label='Predicted', ax=ax)\n",
    "x = main.set_index('NAME').loc['Dane County', 'HU100']\n",
    "y = main.set_index('NAME').loc['Dane County', 'POP100']\n",
    "ax.text(x+10000, y-10000,'Dane')"
   ]
  },
  {
   "cell_type": "code",
   "execution_count": 16,
   "id": "b63b6d19",
   "metadata": {},
   "outputs": [
    {
     "data": {
      "text/plain": [
       "12"
      ]
     },
     "execution_count": 16,
     "metadata": {},
     "output_type": "execute_result"
    }
   ],
   "source": [
    "#q12\n",
    "A = np.array([\n",
    "    [0,0,5,8,4],\n",
    "    [1,2,4,0,3],\n",
    "    [2,4,0,9,2],\n",
    "    [3,5,2,1,1],\n",
    "    [0,5,0,1,0]\n",
    "])\n",
    "((A >= 2) & (A <= 5)).astype(int).sum()"
   ]
  },
  {
   "cell_type": "code",
   "execution_count": 17,
   "id": "3e77428a",
   "metadata": {},
   "outputs": [
    {
     "data": {
      "text/plain": [
       "<matplotlib.image.AxesImage at 0x7f14ec7941f0>"
      ]
     },
     "execution_count": 17,
     "metadata": {},
     "output_type": "execute_result"
    },
    {
     "data": {
      "image/png": "[encoded data removed]",
      "text/plain": [
       "<Figure size 864x864 with 1 Axes>"
      ]
     },
     "metadata": {
      "needs_background": "light"
     },
     "output_type": "display_data"
    }
   ],
   "source": [
    "#q13\n",
    "land = rasterio.open(\"zip://../p6/land.zip!wi.tif\")\n",
    "mil = main[main['NAME']=='Milwaukee County'][['NAME','geometry']]\n",
    "matrix, _ = mask(land, mil.to_crs(land.crs)[\"geometry\"], crop=True)\n",
    "matrix = matrix[0]\n",
    "\n",
    "c = np.zeros((256,3))\n",
    "c[0] = [0.00000000000, 0.00000000000, 0.00000000000]\n",
    "c[11] = [0.27843137255, 0.41960784314, 0.62745098039]\n",
    "c[12] = [0.81960784314, 0.86666666667, 0.97647058824]\n",
    "c[21] = [0.86666666667, 0.78823529412, 0.78823529412]\n",
    "c[22] = [0.84705882353, 0.57647058824, 0.50980392157]\n",
    "c[23] = [0.92941176471, 0.00000000000, 0.00000000000]\n",
    "c[24] = [0.66666666667, 0.00000000000, 0.00000000000]\n",
    "c[31] = [0.69803921569, 0.67843137255, 0.63921568628]\n",
    "c[41] = [0.40784313726, 0.66666666667, 0.38823529412]\n",
    "c[42] = [0.10980392157, 0.38823529412, 0.18823529412]\n",
    "c[43] = [0.70980392157, 0.78823529412, 0.55686274510]\n",
    "c[51] = [0.64705882353, 0.54901960784, 0.18823529412]\n",
    "c[52] = [0.80000000000, 0.72941176471, 0.48627450980]\n",
    "c[71] = [0.88627450980, 0.88627450980, 0.75686274510]\n",
    "c[72] = [0.78823529412, 0.78823529412, 0.46666666667]\n",
    "c[73] = [0.60000000000, 0.75686274510, 0.27843137255]\n",
    "c[74] = [0.46666666667, 0.67843137255, 0.57647058824]\n",
    "c[81] = [0.85882352941, 0.84705882353, 0.23921568628]\n",
    "c[82] = [0.66666666667, 0.43921568628, 0.15686274510]\n",
    "c[90] = [0.72941176471, 0.84705882353, 0.91764705882]\n",
    "c[95] = [0.43921568628, 0.63921568628, 0.72941176471]\n",
    "custom_cmap = ListedColormap(c)\n",
    "\n",
    "fig, ax = plt.subplots(figsize=(12,12))\n",
    "ax.imshow(matrix, vmin=0, vmax=255, cmap=custom_cmap)"
   ]
  },
  {
   "cell_type": "code",
   "execution_count": 18,
   "id": "58b71651",
   "metadata": {},
   "outputs": [
    {
     "data": {
      "text/plain": [
       "0.7963037455950543"
      ]
     },
     "execution_count": 18,
     "metadata": {},
     "output_type": "execute_result"
    }
   ],
   "source": [
    "#q14\n",
    "land_use = {\"open_water\": 11,\n",
    "            \"ice_snow\": 12,\n",
    "            \"developed_open\": 21,\n",
    "            \"developed_low\": 22,\n",
    "            \"developed_med\": 23,\n",
    "            \"developed_high\": 24,\n",
    "            \"barren\": 31,\n",
    "            \"deciduous\": 41,\n",
    "            \"evergreen\": 42,\n",
    "            \"mixed_forest\": 43,\n",
    "            \"dwarf_scrub\": 51,\n",
    "            \"shrub_scrub\": 52,\n",
    "            \"grassland\": 71,\n",
    "            \"sedge\": 72,\n",
    "            \"lichens\": 73,\n",
    "            \"moss\": 74,\n",
    "            \"pasture\": 81,\n",
    "            \"crops\": 82,\n",
    "            \"woody_wetlands\": 90,\n",
    "            \"herbacious_wetlands\": 95}\n",
    "len(matrix[matrix == land_use['open_water']])/len(matrix[matrix != 0])"
   ]
  },
  {
   "cell_type": "code",
   "execution_count": 19,
   "id": "15fdb4bf",
   "metadata": {},
   "outputs": [
    {
     "data": {
      "text/plain": [
       "Text(0.5, 1.0, 'Relationship Between POP100 and Grassland')"
      ]
     },
     "execution_count": 19,
     "metadata": {},
     "output_type": "execute_result"
    },
    {
     "data": {
      "image/png": "[encoded data removed]",
      "text/plain": [
       "<Figure size 432x288 with 1 Axes>"
      ]
     },
     "metadata": {
      "needs_background": "light"
     },
     "output_type": "display_data"
    }
   ],
   "source": [
    "#q15\n",
    "grassland = []\n",
    "for i in range(len(main)):\n",
    "    matrix, _ = mask(land, main.loc[[i]].to_crs(land.crs)[\"geometry\"], crop=True)\n",
    "    matrix = matrix[0]\n",
    "    grassland.append(len(matrix[matrix == land_use['grassland']]))\n",
    "main['grassland'] = grassland\n",
    "ax = main.plot.scatter(x=\"grassland\",y=\"POP100\")\n",
    "ax.set_xlabel(\"Grassland Cells in County\")\n",
    "ax.set_ylabel(\"POP\")\n",
    "ax.set_title(\"Relationship Between POP100 and Grassland\")"
   ]
  },
  {
   "cell_type": "code",
   "execution_count": 20,
   "id": "0263e8ed",
   "metadata": {},
   "outputs": [
    {
     "data": {
      "text/plain": [
       "Text(0, 0.5, 'R^2 Score')"
      ]
     },
     "execution_count": 20,
     "metadata": {},
     "output_type": "execute_result"
    },
    {
     "data": {
      "image/png": "[encoded data removed]",
      "text/plain": [
       "<Figure size 432x288 with 1 Axes>"
      ]
     },
     "metadata": {
      "needs_background": "light"
     },
     "output_type": "display_data"
    }
   ],
   "source": [
    "#q16\n",
    "own = gpd.read_file('tracts.geojson')\n",
    "deve_open = []\n",
    "deve_low = []\n",
    "deve_med = []\n",
    "deve_high = []\n",
    "for i in range(len(own)):\n",
    "    matrix, _ = mask(land, own.loc[[i]].to_crs(land.crs)[\"geometry\"], crop=True)\n",
    "    matrix = matrix[0]\n",
    "    deve_open.append(len(matrix[matrix == land_use['developed_open']]))\n",
    "    deve_low.append(len(matrix[matrix == land_use['developed_low']]))\n",
    "    deve_med.append(len(matrix[matrix == land_use['developed_med']]))\n",
    "    deve_high.append(len(matrix[matrix == land_use['developed_high']]))\n",
    "own['developed_open'] = deve_open\n",
    "own['developed_low'] = deve_low\n",
    "own['developed_med'] = deve_med\n",
    "own['developed_high'] = deve_high\n",
    "train, test = train_test_split(own, random_state=320)\n",
    "\n",
    "model1 = Pipeline([\n",
    "    ('poly', PolynomialFeatures(degree = 2, include_bias=False)),\n",
    "    ('model',LinearRegression()),\n",
    "])\n",
    "model2 = LinearRegression()\n",
    "\n",
    "scores1 = cross_val_score(model1, train[['developed_high','developed_low','developed_open','developed_med']], train['POP100'])\n",
    "scores2 = cross_val_score(model2, train[['developed_high']], train['POP100'])\n",
    "\n",
    "avg = pd.Series({\"Model_1\": scores1.mean(), \"Model_2\": scores2.mean()})\n",
    "std = pd.Series({\"Model_1\": scores1.std(), \"Model_2\": scores2.std()})\n",
    "ax = avg.plot.bar(yerr=std)\n",
    "ax.set_ylabel(\"R^2 Score\")"
   ]
  },
  {
   "cell_type": "code",
   "execution_count": 21,
   "id": "a39d1bf2",
   "metadata": {},
   "outputs": [
    {
     "data": {
      "text/plain": [
       "0.4682740740806324"
      ]
     },
     "execution_count": 21,
     "metadata": {},
     "output_type": "execute_result"
    }
   ],
   "source": [
    "#q17\n",
    "\n",
    "### I would recommend model 1. As from the above question, \n",
    "### it is clear that with similar standard deviation of scores,\n",
    "### model 1 has much higher scores. Though it has four features and \n",
    "### degree of 2, which migh seems to be a little redundant,\n",
    "### from the precision perspective, I would still recommend it.\n",
    "\n",
    "model1.fit(train[['developed_open','developed_low','developed_med','developed_high']], train['POP100'])\n",
    "model1.score(test[['developed_open','developed_low','developed_med','developed_high']], test['POP100'])"
   ]
  },
  {
   "cell_type": "code",
   "execution_count": null,
   "id": "611dea78",
   "metadata": {},
   "outputs": [],
   "source": []
  }
 ],
 "metadata": {
  "kernelspec": {
   "display_name": "Python 3 (ipykernel)",
   "language": "python",
   "name": "python3"
  },
  "language_info": {
   "codemirror_mode": {
    "name": "ipython",
    "version": 3
   },
   "file_extension": ".py",
   "mimetype": "text/x-python",
   "name": "python",
   "nbconvert_exporter": "python",
   "pygments_lexer": "ipython3",
   "version": "3.8.10"
  }
 },
 "nbformat": 4,
 "nbformat_minor": 5
}

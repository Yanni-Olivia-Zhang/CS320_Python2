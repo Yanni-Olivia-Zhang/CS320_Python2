{
 "cells": [
  {
   "cell_type": "code",
   "execution_count": 1,
   "id": "718854ee",
   "metadata": {},
   "outputs": [],
   "source": [
    "# project: p5\n",
    "# submitter: yzhang2232\n",
    "# partner: none\n",
    "# hours: 8"
   ]
  },
  {
   "cell_type": "code",
   "execution_count": 2,
   "id": "aece5f90",
   "metadata": {},
   "outputs": [],
   "source": [
    "import pandas as pd\n",
    "import edgar_utils as eu\n",
    "from zipfile import ZipFile\n",
    "from io import TextIOWrapper\n",
    "from graphviz import Digraph\n",
    "import geopandas as gpd\n",
    "from shapely.geometry import box"
   ]
  },
  {
   "cell_type": "code",
   "execution_count": 3,
   "id": "780adca2",
   "metadata": {},
   "outputs": [
    {
     "data": {
      "text/plain": [
       "24801002666"
      ]
     },
     "execution_count": 3,
     "metadata": {},
     "output_type": "execute_result"
    }
   ],
   "source": [
    "#q1\n",
    "server = pd.read_csv('server_log.zip')\n",
    "int(sum(server['size']))"
   ]
  },
  {
   "cell_type": "code",
   "execution_count": 4,
   "id": "4ab9ad5a",
   "metadata": {},
   "outputs": [
    {
     "data": {
      "text/plain": [
       "{'54.152.17.ccg': 12562,\n",
       " '183.195.251.hah': 6524,\n",
       " '52.45.218.ihf': 5562,\n",
       " '68.180.231.abf': 5493,\n",
       " '204.212.175.bch': 4708,\n",
       " '103.238.106.gif': 4428,\n",
       " '208.77.215.jeh': 3903,\n",
       " '208.77.214.jeh': 3806,\n",
       " '217.174.255.dgd': 3551,\n",
       " '82.13.163.caf': 3527}"
      ]
     },
     "execution_count": 4,
     "metadata": {},
     "output_type": "execute_result"
    }
   ],
   "source": [
    "#q2\n",
    "server.groupby('ip').size().sort_values(ascending = False)[:10].to_dict()"
   ]
  },
  {
   "cell_type": "code",
   "execution_count": 5,
   "id": "add669be",
   "metadata": {
    "scrolled": true
   },
   "outputs": [
    {
     "data": {
      "text/plain": [
       "0.03466852724527611"
      ]
     },
     "execution_count": 5,
     "metadata": {},
     "output_type": "execute_result"
    }
   ],
   "source": [
    "#q3\n",
    "len(server[server['code']>=400])/len(server)"
   ]
  },
  {
   "cell_type": "code",
   "execution_count": 6,
   "id": "440cbcfc",
   "metadata": {},
   "outputs": [
    {
     "data": {
      "text/plain": [
       "'1627631/0001627631-15-000004/.txt'"
      ]
     },
     "execution_count": 6,
     "metadata": {},
     "output_type": "execute_result"
    }
   ],
   "source": [
    "#q4\n",
    "server['file'] = server['cik'].map(int).map(str)+'/'+server['accession'].map(str)+'/'+server['extention'].map(str)\n",
    "list(server.groupby('file').size().sort_values(ascending=False)[0:1].to_dict().keys())[0]"
   ]
  },
  {
   "cell_type": "code",
   "execution_count": 7,
   "id": "5ea1c211",
   "metadata": {},
   "outputs": [
    {
     "data": {
      "text/plain": [
       "971"
      ]
     },
     "execution_count": 7,
     "metadata": {},
     "output_type": "execute_result"
    }
   ],
   "source": [
    "#q5\n",
    "len(server[server['crawler']!=0])"
   ]
  },
  {
   "cell_type": "code",
   "execution_count": 8,
   "id": "d0c0cf7f",
   "metadata": {},
   "outputs": [],
   "source": [
    "server['region'] = server['ip'].apply(eu.lookup_region)"
   ]
  },
  {
   "cell_type": "code",
   "execution_count": 9,
   "id": "ff2aa477",
   "metadata": {},
   "outputs": [
    {
     "data": {
      "text/plain": [
       "'United States of America'"
      ]
     },
     "execution_count": 9,
     "metadata": {},
     "output_type": "execute_result"
    }
   ],
   "source": [
    "#q6\n",
    "list(server.groupby('region').size().sort_values(ascending=False)[0:1].keys())[0]"
   ]
  },
  {
   "cell_type": "code",
   "execution_count": 10,
   "id": "68eda6a2",
   "metadata": {},
   "outputs": [
    {
     "data": {
      "text/plain": [
       "{'-': 0.0,\n",
       " 'Algeria': 0.0,\n",
       " 'Angola': 0.0,\n",
       " 'Armenia': 0.0,\n",
       " 'Australia': 0.07692307692307693,\n",
       " 'Austria': 0.0,\n",
       " 'Bangladesh': 0.0,\n",
       " 'Brazil': 0.0,\n",
       " 'Bulgaria': 0.3333333333333333,\n",
       " 'Canada': 0.017857142857142856,\n",
       " 'China': 0.006864988558352402,\n",
       " 'Croatia': 0.0,\n",
       " 'Cyprus': 0.0,\n",
       " 'Czechia': 0.0,\n",
       " 'Denmark': 0.0,\n",
       " 'Egypt': 0.0,\n",
       " 'Estonia': 0.0,\n",
       " 'Finland': 0.0,\n",
       " 'France': 0.0036900369003690036,\n",
       " 'Germany': 0.0,\n",
       " 'Greece': 0.0,\n",
       " 'Honduras': 0.0,\n",
       " 'Hong Kong': 0.0,\n",
       " 'Hungary': 0.0,\n",
       " 'India': 0.058823529411764705,\n",
       " 'Indonesia': 0.0,\n",
       " 'Iraq': 0.0,\n",
       " 'Ireland': 0.3125,\n",
       " 'Israel': 0.0,\n",
       " 'Italy': 0.0,\n",
       " 'Japan': 0.0,\n",
       " 'Jersey': 0.0,\n",
       " 'Jordan': 0.0,\n",
       " 'Korea (Republic of)': 0.2,\n",
       " 'Latvia': 0.0,\n",
       " 'Lebanon': 0.0,\n",
       " 'Liberia': 0.0,\n",
       " 'Luxembourg': 0.0,\n",
       " 'Malaysia': 0.0,\n",
       " 'Mexico': 0.0,\n",
       " 'Mongolia': 0.0,\n",
       " 'Morocco': 0.0,\n",
       " 'Netherlands': 0.0,\n",
       " 'Nigeria': 0.0,\n",
       " 'North Macedonia': 0.0,\n",
       " 'Pakistan': 0.0,\n",
       " 'Philippines': 0.0,\n",
       " 'Poland': 0.0,\n",
       " 'Portugal': 0.0,\n",
       " 'Romania': 0.0,\n",
       " 'Russian Federation': 0.0,\n",
       " 'Saudi Arabia': 0.0,\n",
       " 'Singapore': 0.0,\n",
       " 'Slovakia': 0.0,\n",
       " 'Slovenia': 0.0,\n",
       " 'South Africa': 0.0,\n",
       " 'Spain': 0.0,\n",
       " 'Sudan': 0.0,\n",
       " 'Sweden': 0.0,\n",
       " 'Switzerland': 0.0,\n",
       " 'Syrian Arab Republic': 0.0,\n",
       " 'Taiwan (Province of China)': 0.0,\n",
       " 'Tanzania, United Republic of': 0.0,\n",
       " 'Thailand': 0.0,\n",
       " 'Turkey': 0.0,\n",
       " 'Ukraine': 0.0,\n",
       " 'United Kingdom of Great Britain and Northern Ireland': 0.06666666666666667,\n",
       " 'United States of America': 0.019862490450725745,\n",
       " 'Venezuela (Bolivarian Republic of)': 0.0,\n",
       " 'Viet Nam': 0.0,\n",
       " 'Virgin Islands (British)': 0.0,\n",
       " 'Yemen': 0.0}"
      ]
     },
     "execution_count": 10,
     "metadata": {},
     "output_type": "execute_result"
    }
   ],
   "source": [
    "#q7\n",
    "nested = server.groupby('region')[['ip']].apply(lambda x:x.value_counts().to_dict()).to_dict()\n",
    "{k:len([i for i in list(v.values()) if i>1000])/len(v) for (k,v) in nested.items()}"
   ]
  },
  {
   "cell_type": "code",
   "execution_count": 11,
   "id": "759e2130",
   "metadata": {},
   "outputs": [
    {
     "data": {
      "text/plain": [
       "['2007-07-25', '2007-07-25', '2007-07-23']"
      ]
     },
     "execution_count": 11,
     "metadata": {},
     "output_type": "execute_result"
    }
   ],
   "source": [
    "#q8\n",
    "filings = {}\n",
    "with ZipFile('docs.zip','r') as f:\n",
    "    names = f.namelist()\n",
    "    for name in names:\n",
    "        if name.endswith('htm') or name.endswith('html'):\n",
    "            with f.open(name,'r') as file:\n",
    "                file = TextIOWrapper(file)\n",
    "                data = file.read()\n",
    "                value = eu.Filing(data)\n",
    "                filings[name] = value\n",
    "filings['850693/0000850693-07-000159/-index.htm'].dates"
   ]
  },
  {
   "cell_type": "code",
   "execution_count": 12,
   "id": "6111dfbf",
   "metadata": {},
   "outputs": [
    {
     "data": {
      "text/plain": [
       "{'OX': 6,\n",
       " 'NJ': 23,\n",
       " 'MS': 1,\n",
       " 'MA': 30,\n",
       " 'CA': 91,\n",
       " 'CO': 25,\n",
       " 'NY': 83,\n",
       " 'TX': 64,\n",
       " 'FL': 21,\n",
       " 'AL': 1,\n",
       " 'IN': 4,\n",
       " 'CT': 14,\n",
       " 'UT': 5,\n",
       " 'MD': 13,\n",
       " 'KS': 5,\n",
       " 'VA': 15,\n",
       " 'OH': 10,\n",
       " 'SD': 1,\n",
       " 'DE': 10,\n",
       " 'IL': 25,\n",
       " 'GA': 8,\n",
       " 'NC': 9,\n",
       " 'PA': 25,\n",
       " 'TN': 4,\n",
       " 'MN': 15,\n",
       " 'NM': 1,\n",
       " 'KY': 2,\n",
       " 'OK': 7,\n",
       " 'AR': 1,\n",
       " 'NV': 6,\n",
       " 'VT': 1,\n",
       " 'MO': 4,\n",
       " 'MI': 11,\n",
       " 'NE': 2,\n",
       " 'IA': 6,\n",
       " 'AZ': 5,\n",
       " 'WI': 9,\n",
       " 'LA': 2,\n",
       " 'ID': 1,\n",
       " 'OR': 2,\n",
       " 'WV': 2,\n",
       " 'WA': 3,\n",
       " 'DC': 1,\n",
       " 'ME': 1}"
      ]
     },
     "execution_count": 12,
     "metadata": {},
     "output_type": "execute_result"
    }
   ],
   "source": [
    "#q9\n",
    "states = {}\n",
    "for i in filings:\n",
    "    state = filings[i].state()\n",
    "    if state != None:\n",
    "        if not state in states:\n",
    "            states[state] = 0\n",
    "        states[state] += 1\n",
    "states"
   ]
  },
  {
   "cell_type": "code",
   "execution_count": 13,
   "id": "d062f1dc",
   "metadata": {},
   "outputs": [
    {
     "data": {
      "text/plain": [
       "{2834: 40,\n",
       " 6022: 20,\n",
       " 1311: 20,\n",
       " 6189: 17,\n",
       " 6211: 17,\n",
       " 8731: 2,\n",
       " 1389: 19,\n",
       " 7370: 7,\n",
       " 3571: 1,\n",
       " 7361: 1,\n",
       " 3674: 5,\n",
       " 4931: 5,\n",
       " 1040: 2,\n",
       " 2810: 2,\n",
       " 7389: 11,\n",
       " 3140: 1,\n",
       " 7374: 4,\n",
       " 6200: 1,\n",
       " 7381: 1,\n",
       " 3620: 3,\n",
       " 3841: 6,\n",
       " 4941: 1,\n",
       " 5621: 1,\n",
       " 7330: 1,\n",
       " 6199: 8,\n",
       " 6798: 20,\n",
       " 2510: 4,\n",
       " 3990: 2,\n",
       " 1700: 5,\n",
       " 7371: 6,\n",
       " 5940: 2,\n",
       " 4522: 5,\n",
       " 1731: 2,\n",
       " 6311: 2,\n",
       " 8082: 2,\n",
       " 2836: 13,\n",
       " 6021: 20,\n",
       " 1000: 11,\n",
       " 4911: 8,\n",
       " 6324: 2,\n",
       " 8051: 1,\n",
       " 6035: 4,\n",
       " 3550: 1,\n",
       " 4813: 4,\n",
       " 6321: 2,\n",
       " 2890: 1,\n",
       " 3845: 2,\n",
       " 2860: 8,\n",
       " 1221: 2,\n",
       " 3669: 2,\n",
       " 6411: 1,\n",
       " 5900: 2,\n",
       " 2320: 1,\n",
       " 6221: 3,\n",
       " 6331: 10,\n",
       " 2070: 1,\n",
       " 8742: 5,\n",
       " 3829: 3,\n",
       " 900: 5,\n",
       " 5500: 2,\n",
       " 7372: 11,\n",
       " 6770: 1,\n",
       " 4841: 2,\n",
       " 4833: 1,\n",
       " 7384: 1,\n",
       " 6799: 3,\n",
       " 3826: 5,\n",
       " 8711: 2,\n",
       " 5160: 1,\n",
       " 5944: 1,\n",
       " 3420: 3,\n",
       " 3510: 3,\n",
       " 5960: 1,\n",
       " 3842: 4,\n",
       " 8062: 3,\n",
       " 6029: 11,\n",
       " 7320: 1,\n",
       " 5172: 2,\n",
       " 1382: 2,\n",
       " 3663: 4,\n",
       " 1400: 3,\n",
       " 7822: 1,\n",
       " 2024: 1,\n",
       " 2080: 1,\n",
       " 7812: 2,\n",
       " 4922: 2,\n",
       " 2030: 1,\n",
       " 3576: 3,\n",
       " 2711: 1,\n",
       " 3578: 1,\n",
       " 3679: 2,\n",
       " 2842: 1,\n",
       " 4899: 1,\n",
       " 100: 1,\n",
       " 3541: 1,\n",
       " 7311: 1,\n",
       " 3317: 1,\n",
       " 2033: 1,\n",
       " 3721: 1,\n",
       " 3621: 2,\n",
       " 3730: 1,\n",
       " 5122: 2,\n",
       " 3585: 1,\n",
       " 3944: 1,\n",
       " 5812: 4,\n",
       " 3661: 2,\n",
       " 3577: 2,\n",
       " 3711: 1,\n",
       " 2800: 3,\n",
       " 3490: 1,\n",
       " 4924: 1,\n",
       " 3537: 1,\n",
       " 8093: 1,\n",
       " 6141: 2,\n",
       " 4412: 1,\n",
       " 3272: 2,\n",
       " 2911: 1,\n",
       " 7200: 3,\n",
       " 3695: 2,\n",
       " 6282: 8,\n",
       " 6513: 1,\n",
       " 6099: 1,\n",
       " 7373: 3,\n",
       " 3559: 2,\n",
       " 7350: 1,\n",
       " 3690: 2,\n",
       " 3714: 1,\n",
       " 7363: 1,\n",
       " 2111: 2,\n",
       " 3825: 2,\n",
       " 8200: 1,\n",
       " 5990: 1,\n",
       " 3630: 1,\n",
       " 1531: 2,\n",
       " 1381: 1,\n",
       " 5961: 1,\n",
       " 2870: 2,\n",
       " 5030: 1,\n",
       " 5731: 1,\n",
       " 2780: 1,\n",
       " 2820: 1,\n",
       " 2670: 1,\n",
       " 3312: 1,\n",
       " 3590: 1,\n",
       " 4812: 2,\n",
       " 5065: 2,\n",
       " 6036: 1,\n",
       " 7900: 2,\n",
       " 5661: 2,\n",
       " 2790: 1,\n",
       " 7340: 1,\n",
       " 5651: 1,\n",
       " 3442: 1,\n",
       " 6500: 1,\n",
       " 4512: 2,\n",
       " 7841: 1,\n",
       " 8090: 1,\n",
       " 4955: 1,\n",
       " 5311: 1,\n",
       " 2750: 1,\n",
       " 7830: 2,\n",
       " 4213: 1,\n",
       " 3672: 1,\n",
       " 5531: 1,\n",
       " 2430: 1,\n",
       " 6111: 1,\n",
       " 5945: 1,\n",
       " 3678: 1,\n",
       " 6792: 1,\n",
       " 3827: 1,\n",
       " 3443: 1,\n",
       " 7990: 1,\n",
       " 2273: 1,\n",
       " 1623: 1}"
      ]
     },
     "execution_count": 13,
     "metadata": {},
     "output_type": "execute_result"
    }
   ],
   "source": [
    "#q10\n",
    "sics = {}\n",
    "for i in filings:\n",
    "    sic = filings[i].sic\n",
    "    if sic != None:\n",
    "        if not sic in sics:\n",
    "            sics[sic] = 0\n",
    "        sics[sic] += 1\n",
    "sics"
   ]
  },
  {
   "cell_type": "code",
   "execution_count": 14,
   "id": "9c413e16",
   "metadata": {},
   "outputs": [
    {
     "data": {
      "text/plain": [
       "{4931: 70,\n",
       " 1000: 273,\n",
       " 6021: 204,\n",
       " 7371: 229,\n",
       " 2860: 226,\n",
       " 6211: 237,\n",
       " 2834: 984,\n",
       " 1389: 656,\n",
       " 4522: 22,\n",
       " 6282: 171,\n",
       " 6022: 379,\n",
       " 1700: 31,\n",
       " 6331: 91,\n",
       " 4813: 4,\n",
       " 2836: 429,\n",
       " 3620: 50,\n",
       " 1311: 550,\n",
       " 4841: 108,\n",
       " 3272: 81,\n",
       " 7200: 94,\n",
       " 6513: 38,\n",
       " 7374: 94,\n",
       " 3510: 66,\n",
       " 4512: 42,\n",
       " 3826: 56,\n",
       " 3678: 4,\n",
       " 4911: 8,\n",
       " 2510: 171,\n",
       " 6798: 90,\n",
       " 7830: 62,\n",
       " 3571: 6,\n",
       " 6221: 85,\n",
       " 3621: 38,\n",
       " 3695: 55,\n",
       " 3590: 24,\n",
       " 6321: 21,\n",
       " 4812: 4,\n",
       " 3312: 31,\n",
       " 3842: 87,\n",
       " 2870: 2,\n",
       " 4955: 23,\n",
       " 7370: 39,\n",
       " 1040: 2,\n",
       " 900: 39,\n",
       " 4833: 7,\n",
       " 6029: 83,\n",
       " 3990: 34,\n",
       " 5311: 90,\n",
       " 5944: 33,\n",
       " 3663: 23,\n",
       " 8742: 27,\n",
       " 5621: 99,\n",
       " 8090: 32,\n",
       " 4412: 43,\n",
       " 8731: 25,\n",
       " 7373: 48,\n",
       " 8711: 2,\n",
       " 6411: 3,\n",
       " 3669: 2,\n",
       " 5172: 36,\n",
       " 3825: 164,\n",
       " 3559: 20,\n",
       " 2080: 1,\n",
       " 3541: 1,\n",
       " 7389: 26,\n",
       " 2711: 1,\n",
       " 7812: 25,\n",
       " 7350: 1,\n",
       " 1400: 3,\n",
       " 5900: 35,\n",
       " 3829: 73,\n",
       " 5812: 19,\n",
       " 3845: 2,\n",
       " 6770: 2,\n",
       " 3841: 14,\n",
       " 7990: 1,\n",
       " 2911: 1,\n",
       " 6799: 46,\n",
       " 1382: 2,\n",
       " 3679: 5,\n",
       " 3721: 1,\n",
       " 5122: 34,\n",
       " 5990: 1,\n",
       " 1531: 4,\n",
       " 5731: 1,\n",
       " 5531: 1,\n",
       " 6324: 30,\n",
       " 2750: 1,\n",
       " 4213: 35,\n",
       " 1381: 31,\n",
       " 2030: 1,\n",
       " 3714: 1,\n",
       " 7372: 16,\n",
       " 3674: 5,\n",
       " 5065: 2,\n",
       " 6189: 18,\n",
       " 3578: 1,\n",
       " 8093: 1,\n",
       " 8200: 1,\n",
       " 8082: 2,\n",
       " 6792: 19,\n",
       " 6199: 11,\n",
       " 2670: 1,\n",
       " 5661: 2,\n",
       " 4922: 31,\n",
       " 2800: 3,\n",
       " 2070: 33,\n",
       " 2320: 1,\n",
       " 3420: 3,\n",
       " 2430: 6,\n",
       " 7900: 2,\n",
       " 5961: 1,\n",
       " 8051: 1,\n",
       " 6141: 2,\n",
       " 3944: 1,\n",
       " 1731: 11,\n",
       " 6035: 7,\n",
       " 5960: 1,\n",
       " 7822: 1,\n",
       " 7340: 40,\n",
       " 8062: 3,\n",
       " 1221: 2,\n",
       " 3661: 2,\n",
       " 3140: 1,\n",
       " 7841: 1,\n",
       " 3490: 1,\n",
       " 3577: 2,\n",
       " 3672: 1,\n",
       " 3442: 1,\n",
       " 7330: 1,\n",
       " 4941: 1,\n",
       " 7361: 1,\n",
       " 6500: 1,\n",
       " 3690: 2,\n",
       " 2890: 2,\n",
       " 5945: 1,\n",
       " 5651: 1,\n",
       " 7311: 1,\n",
       " 6311: 2,\n",
       " 2842: 1,\n",
       " 2810: 2,\n",
       " 6111: 1,\n",
       " 2790: 1,\n",
       " 5030: 1,\n",
       " 7381: 1,\n",
       " 3630: 1,\n",
       " 2024: 1,\n",
       " 3576: 3,\n",
       " 2780: 1,\n",
       " 2033: 1,\n",
       " 2111: 2,\n",
       " 3537: 1,\n",
       " 3443: 1,\n",
       " 3711: 1,\n",
       " 7320: 1,\n",
       " 6099: 1,\n",
       " 5940: 2,\n",
       " 7384: 1,\n",
       " 2820: 1,\n",
       " 5500: 4,\n",
       " 3827: 1,\n",
       " 2273: 1,\n",
       " 100: 1,\n",
       " 4899: 1,\n",
       " 6036: 1,\n",
       " 7363: 1,\n",
       " 4924: 1,\n",
       " 3550: 1,\n",
       " 1623: 1,\n",
       " 3585: 1,\n",
       " 6200: 1,\n",
       " 3730: 1,\n",
       " 5160: 1,\n",
       " 3317: 1}"
      ]
     },
     "execution_count": 14,
     "metadata": {},
     "output_type": "execute_result"
    }
   ],
   "source": [
    "#q11\n",
    "indus_sic = {}\n",
    "for f in server['file']:\n",
    "    if f in filings:\n",
    "        sic = filings[f].sic\n",
    "        if sic != None:\n",
    "            if not sic in indus_sic:\n",
    "                indus_sic[sic] = 0\n",
    "            indus_sic[sic] += 1\n",
    "indus_sic"
   ]
  },
  {
   "cell_type": "code",
   "execution_count": 15,
   "id": "9aaf0e3e",
   "metadata": {},
   "outputs": [
    {
     "data": {
      "text/plain": [
       "{0: 8305,\n",
       " 1: 8242,\n",
       " 2: 8550,\n",
       " 3: 8850,\n",
       " 4: 8343,\n",
       " 5: 9783,\n",
       " 6: 7761,\n",
       " 7: 8213,\n",
       " 8: 8292,\n",
       " 9: 11033,\n",
       " 10: 6377,\n",
       " 11: 6435,\n",
       " 12: 6155,\n",
       " 13: 6006,\n",
       " 14: 6654,\n",
       " 15: 6512,\n",
       " 16: 5680,\n",
       " 17: 6487,\n",
       " 18: 6356,\n",
       " 19: 6211,\n",
       " 20: 6066,\n",
       " 21: 6164,\n",
       " 22: 6098,\n",
       " 23: 6283}"
      ]
     },
     "execution_count": 15,
     "metadata": {},
     "output_type": "execute_result"
    }
   ],
   "source": [
    "#q12\n",
    "server['time'] = pd.to_datetime(server['time'], format =\"%H:%M:%S\")\n",
    "hours = {}\n",
    "for i in server['time']:\n",
    "    if not i.hour in hours:\n",
    "        hours[i.hour] = 0\n",
    "    hours[i.hour] += 1\n",
    "hours"
   ]
  },
  {
   "cell_type": "code",
   "execution_count": 16,
   "id": "d815ce08",
   "metadata": {},
   "outputs": [
    {
     "data": {
      "image/svg+xml": [
       "<?xml version=\"1.0\" encoding=\"UTF-8\" standalone=\"no\"?>\n",
       "<!DOCTYPE svg PUBLIC \"-//W3C//DTD SVG 1.1//EN\"\n",
       " \"http://www.w3.org/Graphics/SVG/1.1/DTD/svg11.dtd\">\n",
       "<!-- Generated by graphviz version 2.43.0 (0)\n",
       " -->\n",
       "<!-- Title: %3 Pages: 1 -->\n",
       "<svg width=\"358pt\" height=\"116pt\"\n",
       " viewBox=\"0.00 0.00 357.59 116.00\" xmlns=\"http://www.w3.org/2000/svg\" xmlns:xlink=\"http://www.w3.org/1999/xlink\">\n",
       "<g id=\"graph0\" class=\"graph\" transform=\"scale(1 1) rotate(0) translate(4 112)\">\n",
       "<title>%3</title>\n",
       "<polygon fill=\"white\" stroke=\"transparent\" points=\"-4,4 -4,-112 353.59,-112 353.59,4 -4,4\"/>\n",
       "<!-- Australia -->\n",
       "<g id=\"node1\" class=\"node\">\n",
       "<title>Australia</title>\n",
       "<ellipse fill=\"none\" stroke=\"black\" cx=\"52.65\" cy=\"-90\" rx=\"52.79\" ry=\"18\"/>\n",
       "<text text-anchor=\"middle\" x=\"52.65\" y=\"-86.3\" font-family=\"Times,serif\" font-size=\"14.00\">Australia</text>\n",
       "</g>\n",
       "<!-- NY -->\n",
       "<g id=\"node2\" class=\"node\">\n",
       "<title>NY</title>\n",
       "<ellipse fill=\"none\" stroke=\"black\" cx=\"52.65\" cy=\"-18\" rx=\"27\" ry=\"18\"/>\n",
       "<text text-anchor=\"middle\" x=\"52.65\" y=\"-14.3\" font-family=\"Times,serif\" font-size=\"14.00\">NY</text>\n",
       "</g>\n",
       "<!-- Australia&#45;&gt;NY -->\n",
       "<g id=\"edge1\" class=\"edge\">\n",
       "<title>Australia&#45;&gt;NY</title>\n",
       "<path fill=\"none\" stroke=\"black\" d=\"M52.65,-71.7C52.65,-63.98 52.65,-54.71 52.65,-46.11\"/>\n",
       "<polygon fill=\"black\" stroke=\"black\" points=\"56.15,-46.1 52.65,-36.1 49.15,-46.1 56.15,-46.1\"/>\n",
       "</g>\n",
       "<!-- France -->\n",
       "<g id=\"node3\" class=\"node\">\n",
       "<title>France</title>\n",
       "<ellipse fill=\"none\" stroke=\"black\" cx=\"166.65\" cy=\"-90\" rx=\"42.79\" ry=\"18\"/>\n",
       "<text text-anchor=\"middle\" x=\"166.65\" y=\"-86.3\" font-family=\"Times,serif\" font-size=\"14.00\">France</text>\n",
       "</g>\n",
       "<!-- NJ -->\n",
       "<g id=\"node4\" class=\"node\">\n",
       "<title>NJ</title>\n",
       "<ellipse fill=\"none\" stroke=\"black\" cx=\"158.65\" cy=\"-18\" rx=\"27\" ry=\"18\"/>\n",
       "<text text-anchor=\"middle\" x=\"158.65\" y=\"-14.3\" font-family=\"Times,serif\" font-size=\"14.00\">NJ</text>\n",
       "</g>\n",
       "<!-- France&#45;&gt;NJ -->\n",
       "<g id=\"edge2\" class=\"edge\">\n",
       "<title>France&#45;&gt;NJ</title>\n",
       "<path fill=\"none\" stroke=\"black\" d=\"M164.67,-71.7C163.79,-63.98 162.73,-54.71 161.74,-46.11\"/>\n",
       "<polygon fill=\"black\" stroke=\"black\" points=\"165.21,-45.64 160.6,-36.1 158.26,-46.44 165.21,-45.64\"/>\n",
       "</g>\n",
       "<!-- CA -->\n",
       "<g id=\"node5\" class=\"node\">\n",
       "<title>CA</title>\n",
       "<ellipse fill=\"none\" stroke=\"black\" cx=\"230.65\" cy=\"-18\" rx=\"27\" ry=\"18\"/>\n",
       "<text text-anchor=\"middle\" x=\"230.65\" y=\"-14.3\" font-family=\"Times,serif\" font-size=\"14.00\">CA</text>\n",
       "</g>\n",
       "<!-- France&#45;&gt;CA -->\n",
       "<g id=\"edge3\" class=\"edge\">\n",
       "<title>France&#45;&gt;CA</title>\n",
       "<path fill=\"none\" stroke=\"black\" d=\"M181.49,-72.76C190.08,-63.37 201.02,-51.41 210.39,-41.15\"/>\n",
       "<polygon fill=\"black\" stroke=\"black\" points=\"213.03,-43.46 217.19,-33.72 207.86,-38.74 213.03,-43.46\"/>\n",
       "</g>\n",
       "<!-- Viet Nam -->\n",
       "<g id=\"node6\" class=\"node\">\n",
       "<title>Viet Nam</title>\n",
       "<ellipse fill=\"none\" stroke=\"black\" cx=\"295.65\" cy=\"-90\" rx=\"53.89\" ry=\"18\"/>\n",
       "<text text-anchor=\"middle\" x=\"295.65\" y=\"-86.3\" font-family=\"Times,serif\" font-size=\"14.00\">Viet Nam</text>\n",
       "</g>\n",
       "<!-- Viet Nam&#45;&gt;CA -->\n",
       "<g id=\"edge4\" class=\"edge\">\n",
       "<title>Viet Nam&#45;&gt;CA</title>\n",
       "<path fill=\"none\" stroke=\"black\" d=\"M280.24,-72.41C271.71,-63.22 260.98,-51.67 251.69,-41.66\"/>\n",
       "<polygon fill=\"black\" stroke=\"black\" points=\"253.98,-38.98 244.61,-34.04 248.85,-43.75 253.98,-38.98\"/>\n",
       "</g>\n",
       "<!-- VA -->\n",
       "<g id=\"node7\" class=\"node\">\n",
       "<title>VA</title>\n",
       "<ellipse fill=\"none\" stroke=\"black\" cx=\"302.65\" cy=\"-18\" rx=\"27\" ry=\"18\"/>\n",
       "<text text-anchor=\"middle\" x=\"302.65\" y=\"-14.3\" font-family=\"Times,serif\" font-size=\"14.00\">VA</text>\n",
       "</g>\n",
       "<!-- Viet Nam&#45;&gt;VA -->\n",
       "<g id=\"edge5\" class=\"edge\">\n",
       "<title>Viet Nam&#45;&gt;VA</title>\n",
       "<path fill=\"none\" stroke=\"black\" d=\"M297.38,-71.7C298.15,-63.98 299.07,-54.71 299.93,-46.11\"/>\n",
       "<polygon fill=\"black\" stroke=\"black\" points=\"303.42,-46.4 300.93,-36.1 296.46,-45.71 303.42,-46.4\"/>\n",
       "</g>\n",
       "</g>\n",
       "</svg>\n"
      ],
      "text/plain": [
       "<graphviz.graphs.Digraph at 0x7f282e797cd0>"
      ]
     },
     "execution_count": 16,
     "metadata": {},
     "output_type": "execute_result"
    }
   ],
   "source": [
    "#q13\n",
    "g = Digraph()\n",
    "new = server[server['region'].isin(['Australia','France', 'Viet Nam'])]\n",
    "coun_fil = {}\n",
    "for i in new.groupby('region')['file']:\n",
    "    country = i[0]\n",
    "    states = []\n",
    "    for file in i:\n",
    "        for f in file:\n",
    "            if f in filings:\n",
    "                state = filings[f].state()\n",
    "                if not state in states:\n",
    "                    states.append(state)\n",
    "            coun_fil[country] = states\n",
    "for country in coun_fil:\n",
    "    g.node(country)\n",
    "    for state in coun_fil[country]:\n",
    "        g.node(state)\n",
    "        g.edge(country,state)\n",
    "g"
   ]
  },
  {
   "cell_type": "code",
   "execution_count": 17,
   "id": "05111239",
   "metadata": {},
   "outputs": [
    {
     "data": {
      "text/plain": [
       "{'801 CHERRY STREET\\nSUITE 2100\\nFORT WORTH TX 76102': 720,\n",
       " '801 CHERRY STREET\\nSUITE 2100\\nFORT WORTH TX 76102\\n817-334-4100': 464,\n",
       " '1114 AVENUE OF THE AMERICAS\\n29TH FLOOR\\nNEW YORK NY 10036': 356,\n",
       " '1 SANSOME ST\\n30TH FL\\nSAN FRANCISCO CA 94104': 305,\n",
       " '1 SANSOME ST\\n30TH FL\\nSAN FRANCISCO CA 94104\\n3125066500': 264,\n",
       " '1251 AVENUE OF THE AMERICAS\\nNEW YORK NY 10020': 225,\n",
       " '1251 AVENUE OF THE AMERICAS\\nNEW YORK NY 10020\\n212-956-2221': 225,\n",
       " '1177 WEST HASTINGS STREET\\nSUITE 2300\\nVANCOUVER A1 V6E 2K3': 225,\n",
       " '1177 WEST HASTINGS STREET\\nSUITE 2300\\nVANCOUVER A1 V6E 2K3\\n604-683-6332': 225,\n",
       " '10119 W. LARIAT LANE\\nPEORIA AZ 85383': 289,\n",
       " '10119 W. LARIAT LANE\\nPEORIA AZ 85383\\n425-442-0931': 289,\n",
       " '1881 GROVE AVENUE\\nRADFORD VA 24141': 277}"
      ]
     },
     "execution_count": 17,
     "metadata": {},
     "output_type": "execute_result"
    }
   ],
   "source": [
    "#q14\n",
    "addr_count = {}\n",
    "for i in server['file']:\n",
    "    if i in filings:\n",
    "        addrs = filings[i].addresses\n",
    "        for addr in addrs:\n",
    "            if not addr in addr_count:\n",
    "                addr_count[addr] = 0\n",
    "            addr_count[addr] += 1\n",
    "addr_common = {}\n",
    "for addr in addr_count:\n",
    "    if addr_count[addr] >= 225:\n",
    "        addr_common[addr] = addr_count[addr]\n",
    "addr_common"
   ]
  },
  {
   "cell_type": "code",
   "execution_count": 18,
   "id": "ea4679eb",
   "metadata": {},
   "outputs": [],
   "source": [
    "west = -130\n",
    "east = -55\n",
    "north = 50\n",
    "south = 20\n",
    "crop = box(west,south,east,north)"
   ]
  },
  {
   "cell_type": "code",
   "execution_count": 19,
   "id": "958eed61",
   "metadata": {},
   "outputs": [
    {
     "data": {
      "text/plain": [
       "<AxesSubplot:>"
      ]
     },
     "execution_count": 19,
     "metadata": {},
     "output_type": "execute_result"
    },
    {
     "data": {
      "image/png": "[encoded data removed]",
      "text/plain": [
       "<Figure size 432x288 with 2 Axes>"
      ]
     },
     "metadata": {
      "needs_background": "light"
     },
     "output_type": "display_data"
    }
   ],
   "source": [
    "#q15\n",
    "bg = gpd.read_file('shapes/cb_2018_us_state_20m.shp')\n",
    "bg = bg[bg.intersects(crop)].to_crs('epsg:3395')\n",
    "loc = gpd.read_file('locations.geojson')\n",
    "loc = loc[loc.intersects(crop)].to_crs('epsg:3395')\n",
    "count = pd.DataFrame.from_dict(addr_count, orient='index').rename(columns={0:\"count\"})\n",
    "loc = loc.merge(count,how='left',left_on='address',right_on=count.index).sort_values(by='count')\n",
    "ax = bg.plot(color = 'lightgrey')\n",
    "loc.plot(ax=ax, cmap = 'plasma', column = 'count', legend = True)"
   ]
  }
 ],
 "metadata": {
  "kernelspec": {
   "display_name": "Python 3 (ipykernel)",
   "language": "python",
   "name": "python3"
  },
  "language_info": {
   "codemirror_mode": {
    "name": "ipython",
    "version": 3
   },
   "file_extension": ".py",
   "mimetype": "text/x-python",
   "name": "python",
   "nbconvert_exporter": "python",
   "pygments_lexer": "ipython3",
   "version": "3.8.10"
  }
 },
 "nbformat": 4,
 "nbformat_minor": 5
}
